{
 "cells": [
  {
   "cell_type": "code",
   "execution_count": 8,
   "id": "18091862",
   "metadata": {},
   "outputs": [
    {
     "name": "stdout",
     "output_type": "stream",
     "text": [
      "***************** end print ****************\n"
     ]
    }
   ],
   "source": [
    "import os\n",
    "import xml.etree.cElementTree as ET\n",
    "def find_dissconnected_oz(path):\n",
    "\n",
    " print(\"***************** start print ****************\")\n",
    " for root, sub_dirs, files in os.walk(path):\n",
    "          print(\"root_directory_path\" ,root)\n",
    "          print(\"sub directories\", sub_dirs)\n",
    "          print(\"files\", files)\n",
    "\n",
    "          #run over the files in the current directory\n",
    "          for file in files:\n",
    "              full_file = os.path.abspath(os.path.join(root, file))\n",
    "              print(\"full_file: \",full_file)\n",
    "              if not file.endswith(\".xml\"):\n",
    "                continue\n",
    "              #parse the xml file\n",
    "              dom = ET.parse(full_file)\n",
    "              print(\"dom :\" ,dom)\n",
    "              # find in xml file the dissconnected block\n",
    "              disConnected = dom.findall(\"BadChan_dissconnected/boolean\")\n",
    "              print(\"disConnected: \",disConnected)\n",
    "              #if the xml file is BadChan_dissconnected/boolean enter to the block\n",
    "              if disConnected:\n",
    "                  full_dir_xml=os.path.abspath(os.path.join(root,file))\n",
    "                  print(\"full dir xml is :\",full_dir_xml)\n",
    "              # loop over the dissconnected tag and find if there is a ture which resambels if oz is discconnected\n",
    "                  count=0\n",
    "                  for i in disConnected:\n",
    "                    if i.text == \"true\":\n",
    "                       count = count + 1\n",
    "                  print(\"the number of dissconnected electrodes are: \",count)\n",
    "\n",
    "                  lines = [\"full dir xml is \",full_dir_xml,\"\\nthe number of dissconnected electrodes are: \",str(count),\"\\n\"]\n",
    "                  # open file to write and append\n",
    "                  with open(\"dissconnected_file.txt\",'a') as file1:\n",
    "                      file1.writelines(lines)\n",
    "\n",
    "\n",
    "\n",
    "\n",
    "          print('*'*25)\n",
    "print(\"***************** end print ****************\")\n",
    "\n",
    "\n",
    "\n",
    "\n",
    "\n",
    "                "
   ]
  },
  {
   "cell_type": "code",
   "execution_count": 11,
   "id": "93d5d61b",
   "metadata": {},
   "outputs": [
    {
     "name": "stdout",
     "output_type": "stream",
     "text": [
      "***************** start print ****************\n",
      "root_directory_path C:/Users/hilla/Desktop/BF-EB-FB-FF-00-09-06-ED_000413/M1L/LocalMT_85_F01\n",
      "sub directories ['DataPerEpoches', 'stimulus']\n",
      "files ['BF-EB-FB-FF-00-09-06-ED_000413_DELPhi010007_SA_M1L_INT_25_LocalMT_85_FREQ_00d10_DT_202111251617_Alert.xml', 'BF-EB-FB-FF-00-09-06-ED_000413_DELPhi010007_SA_M1L_INT_25_LocalMT_85_FREQ_00d10_DT_202111251617_CalcAverage.csv', 'BF-EB-FB-FF-00-09-06-ED_000413_DELPhi010007_SA_M1L_INT_25_LocalMT_85_FREQ_00d10_DT_202111251617_CalcAverage_Info.txt', 'BF-EB-FB-FF-00-09-06-ED_000413_DELPhi010007_SA_M1L_INT_25_LocalMT_85_FREQ_00d10_DT_202111251617_EEG.bin', 'BF-EB-FB-FF-00-09-06-ED_000413_DELPhi010007_SA_M1L_INT_25_LocalMT_85_FREQ_00d10_DT_202111251617_EEG_Info.txt', 'BF-EB-FB-FF-00-09-06-ED_000413_DELPhi010007_SA_M1L_INT_25_LocalMT_85_FREQ_00d10_DT_202111251617_Triggers.csv']\n",
      "full_file:  C:\\Users\\hilla\\Desktop\\BF-EB-FB-FF-00-09-06-ED_000413\\M1L\\LocalMT_85_F01\\BF-EB-FB-FF-00-09-06-ED_000413_DELPhi010007_SA_M1L_INT_25_LocalMT_85_FREQ_00d10_DT_202111251617_Alert.xml\n",
      "dom : <xml.etree.ElementTree.ElementTree object at 0x000002AB27E10DF0>\n",
      "disConnected:  [<Element 'boolean' at 0x000002AB27E4E9F0>, <Element 'boolean' at 0x000002AB27E4EA40>, <Element 'boolean' at 0x000002AB27E4EA90>, <Element 'boolean' at 0x000002AB27E4EAE0>, <Element 'boolean' at 0x000002AB27E4EB30>, <Element 'boolean' at 0x000002AB27E4EB80>, <Element 'boolean' at 0x000002AB27E4EBD0>, <Element 'boolean' at 0x000002AB27E4EC20>, <Element 'boolean' at 0x000002AB27E4EC70>, <Element 'boolean' at 0x000002AB27E14090>, <Element 'boolean' at 0x000002AB27CFCAE0>, <Element 'boolean' at 0x000002AB27CFC590>, <Element 'boolean' at 0x000002AB27E40860>, <Element 'boolean' at 0x000002AB27DD57C0>, <Element 'boolean' at 0x000002AB27DD5DB0>, <Element 'boolean' at 0x000002AB27DD5B30>, <Element 'boolean' at 0x000002AB27E2F680>, <Element 'boolean' at 0x000002AB27E2F5E0>, <Element 'boolean' at 0x000002AB27E2F4F0>, <Element 'boolean' at 0x000002AB27E2F4A0>, <Element 'boolean' at 0x000002AB27E2F450>, <Element 'boolean' at 0x000002AB27E2F400>, <Element 'boolean' at 0x000002AB27E2F360>, <Element 'boolean' at 0x000002AB27E2F310>, <Element 'boolean' at 0x000002AB27E2F2C0>, <Element 'boolean' at 0x000002AB27E2F270>, <Element 'boolean' at 0x000002AB27E395E0>, <Element 'boolean' at 0x000002AB27E39540>, <Element 'boolean' at 0x000002AB27E29F90>, <Element 'boolean' at 0x000002AB27E29C20>, <Element 'boolean' at 0x000002AB27E29B30>, <Element 'boolean' at 0x000002AB27E29590>]\n",
      "full dir xml is : C:\\Users\\hilla\\Desktop\\BF-EB-FB-FF-00-09-06-ED_000413\\M1L\\LocalMT_85_F01\\BF-EB-FB-FF-00-09-06-ED_000413_DELPhi010007_SA_M1L_INT_25_LocalMT_85_FREQ_00d10_DT_202111251617_Alert.xml\n",
      "the number of dissconnected electrodes are:  0\n",
      "full_file:  C:\\Users\\hilla\\Desktop\\BF-EB-FB-FF-00-09-06-ED_000413\\M1L\\LocalMT_85_F01\\BF-EB-FB-FF-00-09-06-ED_000413_DELPhi010007_SA_M1L_INT_25_LocalMT_85_FREQ_00d10_DT_202111251617_CalcAverage.csv\n",
      "full_file:  C:\\Users\\hilla\\Desktop\\BF-EB-FB-FF-00-09-06-ED_000413\\M1L\\LocalMT_85_F01\\BF-EB-FB-FF-00-09-06-ED_000413_DELPhi010007_SA_M1L_INT_25_LocalMT_85_FREQ_00d10_DT_202111251617_CalcAverage_Info.txt\n",
      "full_file:  C:\\Users\\hilla\\Desktop\\BF-EB-FB-FF-00-09-06-ED_000413\\M1L\\LocalMT_85_F01\\BF-EB-FB-FF-00-09-06-ED_000413_DELPhi010007_SA_M1L_INT_25_LocalMT_85_FREQ_00d10_DT_202111251617_EEG.bin\n",
      "full_file:  C:\\Users\\hilla\\Desktop\\BF-EB-FB-FF-00-09-06-ED_000413\\M1L\\LocalMT_85_F01\\BF-EB-FB-FF-00-09-06-ED_000413_DELPhi010007_SA_M1L_INT_25_LocalMT_85_FREQ_00d10_DT_202111251617_EEG_Info.txt\n",
      "full_file:  C:\\Users\\hilla\\Desktop\\BF-EB-FB-FF-00-09-06-ED_000413\\M1L\\LocalMT_85_F01\\BF-EB-FB-FF-00-09-06-ED_000413_DELPhi010007_SA_M1L_INT_25_LocalMT_85_FREQ_00d10_DT_202111251617_Triggers.csv\n",
      "*************************\n",
      "root_directory_path C:/Users/hilla/Desktop/BF-EB-FB-FF-00-09-06-ED_000413/M1L/LocalMT_85_F01\\DataPerEpoches\n",
      "sub directories []\n",
      "files ['Info.txt', 't_1.csv', 't_10.csv', 't_11.csv', 't_12.csv', 't_2.csv', 't_3.csv', 't_4.csv', 't_5.csv', 't_6.csv', 't_7.csv', 't_8.csv', 't_9.csv']\n",
      "full_file:  C:\\Users\\hilla\\Desktop\\BF-EB-FB-FF-00-09-06-ED_000413\\M1L\\LocalMT_85_F01\\DataPerEpoches\\Info.txt\n",
      "full_file:  C:\\Users\\hilla\\Desktop\\BF-EB-FB-FF-00-09-06-ED_000413\\M1L\\LocalMT_85_F01\\DataPerEpoches\\t_1.csv\n",
      "full_file:  C:\\Users\\hilla\\Desktop\\BF-EB-FB-FF-00-09-06-ED_000413\\M1L\\LocalMT_85_F01\\DataPerEpoches\\t_10.csv\n",
      "full_file:  C:\\Users\\hilla\\Desktop\\BF-EB-FB-FF-00-09-06-ED_000413\\M1L\\LocalMT_85_F01\\DataPerEpoches\\t_11.csv\n",
      "full_file:  C:\\Users\\hilla\\Desktop\\BF-EB-FB-FF-00-09-06-ED_000413\\M1L\\LocalMT_85_F01\\DataPerEpoches\\t_12.csv\n",
      "full_file:  C:\\Users\\hilla\\Desktop\\BF-EB-FB-FF-00-09-06-ED_000413\\M1L\\LocalMT_85_F01\\DataPerEpoches\\t_2.csv\n",
      "full_file:  C:\\Users\\hilla\\Desktop\\BF-EB-FB-FF-00-09-06-ED_000413\\M1L\\LocalMT_85_F01\\DataPerEpoches\\t_3.csv\n",
      "full_file:  C:\\Users\\hilla\\Desktop\\BF-EB-FB-FF-00-09-06-ED_000413\\M1L\\LocalMT_85_F01\\DataPerEpoches\\t_4.csv\n",
      "full_file:  C:\\Users\\hilla\\Desktop\\BF-EB-FB-FF-00-09-06-ED_000413\\M1L\\LocalMT_85_F01\\DataPerEpoches\\t_5.csv\n",
      "full_file:  C:\\Users\\hilla\\Desktop\\BF-EB-FB-FF-00-09-06-ED_000413\\M1L\\LocalMT_85_F01\\DataPerEpoches\\t_6.csv\n",
      "full_file:  C:\\Users\\hilla\\Desktop\\BF-EB-FB-FF-00-09-06-ED_000413\\M1L\\LocalMT_85_F01\\DataPerEpoches\\t_7.csv\n",
      "full_file:  C:\\Users\\hilla\\Desktop\\BF-EB-FB-FF-00-09-06-ED_000413\\M1L\\LocalMT_85_F01\\DataPerEpoches\\t_8.csv\n",
      "full_file:  C:\\Users\\hilla\\Desktop\\BF-EB-FB-FF-00-09-06-ED_000413\\M1L\\LocalMT_85_F01\\DataPerEpoches\\t_9.csv\n",
      "*************************\n",
      "root_directory_path C:/Users/hilla/Desktop/BF-EB-FB-FF-00-09-06-ED_000413/M1L/LocalMT_85_F01\\stimulus\n",
      "sub directories []\n",
      "files ['BF-EB-FB-FF-00-09-06-ED_000413_DELPhi010007_SA_M1L_INT_25_LocalMT_85_FREQ_00d10_DT_202111251617_EEG_S8.jpg']\n",
      "full_file:  C:\\Users\\hilla\\Desktop\\BF-EB-FB-FF-00-09-06-ED_000413\\M1L\\LocalMT_85_F01\\stimulus\\BF-EB-FB-FF-00-09-06-ED_000413_DELPhi010007_SA_M1L_INT_25_LocalMT_85_FREQ_00d10_DT_202111251617_EEG_S8.jpg\n",
      "*************************\n"
     ]
    }
   ],
   "source": [
    "find_dissconnected_oz(\"C:/Users/hilla/Desktop/BF-EB-FB-FF-00-09-06-ED_000413/M1L/LocalMT_85_F01\")\n"
   ]
  },
  {
   "cell_type": "code",
   "execution_count": null,
   "id": "089ebf81",
   "metadata": {},
   "outputs": [],
   "source": []
  }
 ],
 "metadata": {
  "kernelspec": {
   "display_name": "Python 3",
   "language": "python",
   "name": "python3"
  },
  "language_info": {
   "codemirror_mode": {
    "name": "ipython",
    "version": 3
   },
   "file_extension": ".py",
   "mimetype": "text/x-python",
   "name": "python",
   "nbconvert_exporter": "python",
   "pygments_lexer": "ipython3",
   "version": "3.8.8"
  }
 },
 "nbformat": 4,
 "nbformat_minor": 5
}
